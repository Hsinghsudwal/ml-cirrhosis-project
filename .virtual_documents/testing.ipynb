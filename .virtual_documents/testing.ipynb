


import pandas as pd
import joblib
from sklearn.ensemble import GradientBoostingClassifier
from sklearn.preprocessing import LabelEncoder
import numpy as np

model = joblib.load(open('deployment/best_model.pkl','rb'))


data=pd.read_csv('artifact/process_data.csv')
data.head()


data.loc[300]


x = data.drop(['Status','ID'], axis=1)
y = data['Status']


xfeature=x.loc[300]
xfeature


ytarget=y.loc[300]
ytarget


xvalue=pd.DataFrame([xfeature])
xvalue


cat=xvalue.select_dtypes(include=[object])
# cat
for i in cat:
    xvalue[i]=LabelEncoder().fit_transform(cat[i])
xvalue


tr=xvalue.values.reshape(1, -1)
tr


y_pred = model.predict(tr)[0]
y_pred


# x.loc[x['N_Days']==127]


def predict_single(data, model):
    X=pd.DataFrame([data])
    
    cat=X.select_dtypes(include=[object])
    for i in cat:
        X[i]=LabelEncoder().fit_transform(cat[i])
    
    test=X.values.reshape(1, -1)
    
    predict = model.predict(test)[0]
    return predict


data.loc[x['N_Days']==1504]


feat=x.loc[4]
feat


predict_single(feat,model)








import requests

url = 'http://localhost:9696/predict'

person_data = {
    "N_Days":1504,
    "Drug":'Placebo',
    "Age":38.0,
    "Sex":'F',
    "Ascites":'N',
    "Hepatomegaly":'Y',
    "Spiders":'Y',
    "Edema":'N',
    "Bilirubin":3.4,
    "Cholesterol":279.0,
    "Albumin":3.53,
    "Copper":143.0,
    "Alk_Phos":671.0,
    "SGOT":113.15,
    "Tryglicerides" :72.0,
    "Platelets":136.0,
    "Prothrombin":10.9,
    "Stage":3.0
    }

# response = requests.post(url, json=person_data).json()
# print(response)






