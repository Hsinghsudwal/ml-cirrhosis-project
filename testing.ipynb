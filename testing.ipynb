{
 "cells": [
  {
   "cell_type": "markdown",
   "id": "9b4b3c3f-a8f6-425d-9163-0fb1256a929c",
   "metadata": {},
   "source": [
    "### Test model"
   ]
  },
  {
   "cell_type": "code",
   "execution_count": 1,
   "id": "ee32ccc9-d57b-45c8-93b6-bb3b86269cc0",
   "metadata": {},
   "outputs": [],
   "source": [
    "import pandas as pd\n",
    "import joblib\n",
    "from sklearn.ensemble import GradientBoostingClassifier\n",
    "from sklearn.preprocessing import LabelEncoder\n",
    "import numpy as np\n",
    "\n",
    "model = joblib.load(open('deployment/best_model.pkl','rb'))"
   ]
  },
  {
   "cell_type": "code",
   "execution_count": 2,
   "id": "cd69f324-8acf-4da6-a5d2-c358cc92cd9f",
   "metadata": {},
   "outputs": [
    {
     "data": {
      "text/html": [
       "<div>\n",
       "<style scoped>\n",
       "    .dataframe tbody tr th:only-of-type {\n",
       "        vertical-align: middle;\n",
       "    }\n",
       "\n",
       "    .dataframe tbody tr th {\n",
       "        vertical-align: top;\n",
       "    }\n",
       "\n",
       "    .dataframe thead th {\n",
       "        text-align: right;\n",
       "    }\n",
       "</style>\n",
       "<table border=\"1\" class=\"dataframe\">\n",
       "  <thead>\n",
       "    <tr style=\"text-align: right;\">\n",
       "      <th></th>\n",
       "      <th>ID</th>\n",
       "      <th>N_Days</th>\n",
       "      <th>Status</th>\n",
       "      <th>Drug</th>\n",
       "      <th>Age</th>\n",
       "      <th>Sex</th>\n",
       "      <th>Ascites</th>\n",
       "      <th>Hepatomegaly</th>\n",
       "      <th>Spiders</th>\n",
       "      <th>Edema</th>\n",
       "      <th>Bilirubin</th>\n",
       "      <th>Cholesterol</th>\n",
       "      <th>Albumin</th>\n",
       "      <th>Copper</th>\n",
       "      <th>Alk_Phos</th>\n",
       "      <th>SGOT</th>\n",
       "      <th>Tryglicerides</th>\n",
       "      <th>Platelets</th>\n",
       "      <th>Prothrombin</th>\n",
       "      <th>Stage</th>\n",
       "    </tr>\n",
       "  </thead>\n",
       "  <tbody>\n",
       "    <tr>\n",
       "      <th>0</th>\n",
       "      <td>1</td>\n",
       "      <td>400</td>\n",
       "      <td>0</td>\n",
       "      <td>D-penicillamine</td>\n",
       "      <td>59.0</td>\n",
       "      <td>F</td>\n",
       "      <td>Y</td>\n",
       "      <td>Y</td>\n",
       "      <td>Y</td>\n",
       "      <td>Y</td>\n",
       "      <td>14.5</td>\n",
       "      <td>261.0</td>\n",
       "      <td>2.60</td>\n",
       "      <td>156.0</td>\n",
       "      <td>1718.0</td>\n",
       "      <td>137.95</td>\n",
       "      <td>172.0</td>\n",
       "      <td>190.0</td>\n",
       "      <td>12.2</td>\n",
       "      <td>4.0</td>\n",
       "    </tr>\n",
       "    <tr>\n",
       "      <th>1</th>\n",
       "      <td>2</td>\n",
       "      <td>4500</td>\n",
       "      <td>1</td>\n",
       "      <td>D-penicillamine</td>\n",
       "      <td>56.0</td>\n",
       "      <td>F</td>\n",
       "      <td>N</td>\n",
       "      <td>Y</td>\n",
       "      <td>Y</td>\n",
       "      <td>N</td>\n",
       "      <td>1.1</td>\n",
       "      <td>302.0</td>\n",
       "      <td>4.14</td>\n",
       "      <td>54.0</td>\n",
       "      <td>7394.8</td>\n",
       "      <td>113.52</td>\n",
       "      <td>88.0</td>\n",
       "      <td>221.0</td>\n",
       "      <td>10.6</td>\n",
       "      <td>3.0</td>\n",
       "    </tr>\n",
       "    <tr>\n",
       "      <th>2</th>\n",
       "      <td>3</td>\n",
       "      <td>1012</td>\n",
       "      <td>0</td>\n",
       "      <td>D-penicillamine</td>\n",
       "      <td>70.0</td>\n",
       "      <td>M</td>\n",
       "      <td>N</td>\n",
       "      <td>N</td>\n",
       "      <td>N</td>\n",
       "      <td>S</td>\n",
       "      <td>1.4</td>\n",
       "      <td>176.0</td>\n",
       "      <td>3.48</td>\n",
       "      <td>210.0</td>\n",
       "      <td>516.0</td>\n",
       "      <td>96.10</td>\n",
       "      <td>55.0</td>\n",
       "      <td>151.0</td>\n",
       "      <td>12.0</td>\n",
       "      <td>4.0</td>\n",
       "    </tr>\n",
       "    <tr>\n",
       "      <th>3</th>\n",
       "      <td>4</td>\n",
       "      <td>1925</td>\n",
       "      <td>0</td>\n",
       "      <td>D-penicillamine</td>\n",
       "      <td>55.0</td>\n",
       "      <td>F</td>\n",
       "      <td>N</td>\n",
       "      <td>Y</td>\n",
       "      <td>Y</td>\n",
       "      <td>S</td>\n",
       "      <td>1.8</td>\n",
       "      <td>244.0</td>\n",
       "      <td>2.54</td>\n",
       "      <td>64.0</td>\n",
       "      <td>6121.8</td>\n",
       "      <td>60.63</td>\n",
       "      <td>92.0</td>\n",
       "      <td>183.0</td>\n",
       "      <td>10.3</td>\n",
       "      <td>4.0</td>\n",
       "    </tr>\n",
       "    <tr>\n",
       "      <th>4</th>\n",
       "      <td>5</td>\n",
       "      <td>1504</td>\n",
       "      <td>2</td>\n",
       "      <td>Placebo</td>\n",
       "      <td>38.0</td>\n",
       "      <td>F</td>\n",
       "      <td>N</td>\n",
       "      <td>Y</td>\n",
       "      <td>Y</td>\n",
       "      <td>N</td>\n",
       "      <td>3.4</td>\n",
       "      <td>279.0</td>\n",
       "      <td>3.53</td>\n",
       "      <td>143.0</td>\n",
       "      <td>671.0</td>\n",
       "      <td>113.15</td>\n",
       "      <td>72.0</td>\n",
       "      <td>136.0</td>\n",
       "      <td>10.9</td>\n",
       "      <td>3.0</td>\n",
       "    </tr>\n",
       "  </tbody>\n",
       "</table>\n",
       "</div>"
      ],
      "text/plain": [
       "   ID  N_Days  Status             Drug   Age Sex Ascites Hepatomegaly Spiders  \\\n",
       "0   1     400       0  D-penicillamine  59.0   F       Y            Y       Y   \n",
       "1   2    4500       1  D-penicillamine  56.0   F       N            Y       Y   \n",
       "2   3    1012       0  D-penicillamine  70.0   M       N            N       N   \n",
       "3   4    1925       0  D-penicillamine  55.0   F       N            Y       Y   \n",
       "4   5    1504       2          Placebo  38.0   F       N            Y       Y   \n",
       "\n",
       "  Edema  Bilirubin  Cholesterol  Albumin  Copper  Alk_Phos    SGOT  \\\n",
       "0     Y       14.5        261.0     2.60   156.0    1718.0  137.95   \n",
       "1     N        1.1        302.0     4.14    54.0    7394.8  113.52   \n",
       "2     S        1.4        176.0     3.48   210.0     516.0   96.10   \n",
       "3     S        1.8        244.0     2.54    64.0    6121.8   60.63   \n",
       "4     N        3.4        279.0     3.53   143.0     671.0  113.15   \n",
       "\n",
       "   Tryglicerides  Platelets  Prothrombin  Stage  \n",
       "0          172.0      190.0         12.2    4.0  \n",
       "1           88.0      221.0         10.6    3.0  \n",
       "2           55.0      151.0         12.0    4.0  \n",
       "3           92.0      183.0         10.3    4.0  \n",
       "4           72.0      136.0         10.9    3.0  "
      ]
     },
     "execution_count": 2,
     "metadata": {},
     "output_type": "execute_result"
    }
   ],
   "source": [
    "data=pd.read_csv('artifact/process_data.csv')\n",
    "data.head()"
   ]
  },
  {
   "cell_type": "code",
   "execution_count": 22,
   "id": "56629d70-0bd3-4eb1-9377-b0ba44efd62c",
   "metadata": {},
   "outputs": [
    {
     "data": {
      "text/plain": [
       "ID                   301\n",
       "N_Days              1295\n",
       "Status                 1\n",
       "Drug             Placebo\n",
       "Age                 45.0\n",
       "Sex                    F\n",
       "Ascites                N\n",
       "Hepatomegaly           N\n",
       "Spiders                N\n",
       "Edema                  N\n",
       "Bilirubin            1.0\n",
       "Cholesterol        393.0\n",
       "Albumin             3.57\n",
       "Copper              50.0\n",
       "Alk_Phos          1307.0\n",
       "SGOT                74.0\n",
       "Tryglicerides      103.0\n",
       "Platelets          295.0\n",
       "Prothrombin         10.5\n",
       "Stage                4.0\n",
       "Name: 300, dtype: object"
      ]
     },
     "execution_count": 22,
     "metadata": {},
     "output_type": "execute_result"
    }
   ],
   "source": [
    "data.loc[300]"
   ]
  },
  {
   "cell_type": "code",
   "execution_count": 23,
   "id": "1162c844-d04d-4060-ba9a-64acaf9376c5",
   "metadata": {},
   "outputs": [],
   "source": [
    "x = data.drop(['Status','ID'], axis=1)\n",
    "y = data['Status']"
   ]
  },
  {
   "cell_type": "code",
   "execution_count": 45,
   "id": "38bc0e6c-9af4-4b3b-8de4-0cdb87bbd3b6",
   "metadata": {},
   "outputs": [
    {
     "data": {
      "text/plain": [
       "N_Days              1295\n",
       "Drug             Placebo\n",
       "Age                 45.0\n",
       "Sex                    F\n",
       "Ascites                N\n",
       "Hepatomegaly           N\n",
       "Spiders                N\n",
       "Edema                  N\n",
       "Bilirubin            1.0\n",
       "Cholesterol        393.0\n",
       "Albumin             3.57\n",
       "Copper              50.0\n",
       "Alk_Phos          1307.0\n",
       "SGOT                74.0\n",
       "Tryglicerides      103.0\n",
       "Platelets          295.0\n",
       "Prothrombin         10.5\n",
       "Stage                4.0\n",
       "Name: 300, dtype: object"
      ]
     },
     "execution_count": 45,
     "metadata": {},
     "output_type": "execute_result"
    }
   ],
   "source": [
    "xfeature=x.loc[300]\n",
    "xfeature"
   ]
  },
  {
   "cell_type": "code",
   "execution_count": 46,
   "id": "ab672348-f63f-4d3a-b0e7-839f453f8ff3",
   "metadata": {},
   "outputs": [
    {
     "data": {
      "text/plain": [
       "1"
      ]
     },
     "execution_count": 46,
     "metadata": {},
     "output_type": "execute_result"
    }
   ],
   "source": [
    "ytarget=y.loc[300]\n",
    "ytarget"
   ]
  },
  {
   "cell_type": "code",
   "execution_count": 47,
   "id": "544d5e22-1220-4a90-82a9-49d12c1d3a43",
   "metadata": {},
   "outputs": [
    {
     "data": {
      "text/html": [
       "<div>\n",
       "<style scoped>\n",
       "    .dataframe tbody tr th:only-of-type {\n",
       "        vertical-align: middle;\n",
       "    }\n",
       "\n",
       "    .dataframe tbody tr th {\n",
       "        vertical-align: top;\n",
       "    }\n",
       "\n",
       "    .dataframe thead th {\n",
       "        text-align: right;\n",
       "    }\n",
       "</style>\n",
       "<table border=\"1\" class=\"dataframe\">\n",
       "  <thead>\n",
       "    <tr style=\"text-align: right;\">\n",
       "      <th></th>\n",
       "      <th>N_Days</th>\n",
       "      <th>Drug</th>\n",
       "      <th>Age</th>\n",
       "      <th>Sex</th>\n",
       "      <th>Ascites</th>\n",
       "      <th>Hepatomegaly</th>\n",
       "      <th>Spiders</th>\n",
       "      <th>Edema</th>\n",
       "      <th>Bilirubin</th>\n",
       "      <th>Cholesterol</th>\n",
       "      <th>Albumin</th>\n",
       "      <th>Copper</th>\n",
       "      <th>Alk_Phos</th>\n",
       "      <th>SGOT</th>\n",
       "      <th>Tryglicerides</th>\n",
       "      <th>Platelets</th>\n",
       "      <th>Prothrombin</th>\n",
       "      <th>Stage</th>\n",
       "    </tr>\n",
       "  </thead>\n",
       "  <tbody>\n",
       "    <tr>\n",
       "      <th>300</th>\n",
       "      <td>1295</td>\n",
       "      <td>Placebo</td>\n",
       "      <td>45.0</td>\n",
       "      <td>F</td>\n",
       "      <td>N</td>\n",
       "      <td>N</td>\n",
       "      <td>N</td>\n",
       "      <td>N</td>\n",
       "      <td>1.0</td>\n",
       "      <td>393.0</td>\n",
       "      <td>3.57</td>\n",
       "      <td>50.0</td>\n",
       "      <td>1307.0</td>\n",
       "      <td>74.0</td>\n",
       "      <td>103.0</td>\n",
       "      <td>295.0</td>\n",
       "      <td>10.5</td>\n",
       "      <td>4.0</td>\n",
       "    </tr>\n",
       "  </tbody>\n",
       "</table>\n",
       "</div>"
      ],
      "text/plain": [
       "     N_Days     Drug   Age Sex Ascites Hepatomegaly Spiders Edema  Bilirubin  \\\n",
       "300    1295  Placebo  45.0   F       N            N       N     N        1.0   \n",
       "\n",
       "     Cholesterol  Albumin  Copper  Alk_Phos  SGOT  Tryglicerides  Platelets  \\\n",
       "300        393.0     3.57    50.0    1307.0  74.0          103.0      295.0   \n",
       "\n",
       "     Prothrombin  Stage  \n",
       "300         10.5    4.0  "
      ]
     },
     "execution_count": 47,
     "metadata": {},
     "output_type": "execute_result"
    }
   ],
   "source": [
    "xvalue=pd.DataFrame([xfeature])\n",
    "xvalue"
   ]
  },
  {
   "cell_type": "code",
   "execution_count": 51,
   "id": "70a873ad-01b8-4298-b3f7-6d8dd064891c",
   "metadata": {},
   "outputs": [
    {
     "data": {
      "text/html": [
       "<div>\n",
       "<style scoped>\n",
       "    .dataframe tbody tr th:only-of-type {\n",
       "        vertical-align: middle;\n",
       "    }\n",
       "\n",
       "    .dataframe tbody tr th {\n",
       "        vertical-align: top;\n",
       "    }\n",
       "\n",
       "    .dataframe thead th {\n",
       "        text-align: right;\n",
       "    }\n",
       "</style>\n",
       "<table border=\"1\" class=\"dataframe\">\n",
       "  <thead>\n",
       "    <tr style=\"text-align: right;\">\n",
       "      <th></th>\n",
       "      <th>N_Days</th>\n",
       "      <th>Drug</th>\n",
       "      <th>Age</th>\n",
       "      <th>Sex</th>\n",
       "      <th>Ascites</th>\n",
       "      <th>Hepatomegaly</th>\n",
       "      <th>Spiders</th>\n",
       "      <th>Edema</th>\n",
       "      <th>Bilirubin</th>\n",
       "      <th>Cholesterol</th>\n",
       "      <th>Albumin</th>\n",
       "      <th>Copper</th>\n",
       "      <th>Alk_Phos</th>\n",
       "      <th>SGOT</th>\n",
       "      <th>Tryglicerides</th>\n",
       "      <th>Platelets</th>\n",
       "      <th>Prothrombin</th>\n",
       "      <th>Stage</th>\n",
       "    </tr>\n",
       "  </thead>\n",
       "  <tbody>\n",
       "    <tr>\n",
       "      <th>300</th>\n",
       "      <td>1295</td>\n",
       "      <td>0</td>\n",
       "      <td>45.0</td>\n",
       "      <td>0</td>\n",
       "      <td>0</td>\n",
       "      <td>0</td>\n",
       "      <td>0</td>\n",
       "      <td>0</td>\n",
       "      <td>1.0</td>\n",
       "      <td>393.0</td>\n",
       "      <td>3.57</td>\n",
       "      <td>50.0</td>\n",
       "      <td>1307.0</td>\n",
       "      <td>74.0</td>\n",
       "      <td>103.0</td>\n",
       "      <td>295.0</td>\n",
       "      <td>10.5</td>\n",
       "      <td>4.0</td>\n",
       "    </tr>\n",
       "  </tbody>\n",
       "</table>\n",
       "</div>"
      ],
      "text/plain": [
       "     N_Days  Drug   Age  Sex  Ascites  Hepatomegaly  Spiders  Edema  \\\n",
       "300    1295     0  45.0    0        0             0        0      0   \n",
       "\n",
       "     Bilirubin  Cholesterol  Albumin  Copper  Alk_Phos  SGOT  Tryglicerides  \\\n",
       "300        1.0        393.0     3.57    50.0    1307.0  74.0          103.0   \n",
       "\n",
       "     Platelets  Prothrombin  Stage  \n",
       "300      295.0         10.5    4.0  "
      ]
     },
     "execution_count": 51,
     "metadata": {},
     "output_type": "execute_result"
    }
   ],
   "source": [
    "cat=xvalue.select_dtypes(include=[object])\n",
    "# cat\n",
    "for i in cat:\n",
    "    xvalue[i]=LabelEncoder().fit_transform(cat[i])\n",
    "xvalue"
   ]
  },
  {
   "cell_type": "code",
   "execution_count": 52,
   "id": "194cae2f-f9af-4493-b286-8bbadc829d95",
   "metadata": {},
   "outputs": [
    {
     "data": {
      "text/plain": [
       "array([[1.295e+03, 0.000e+00, 4.500e+01, 0.000e+00, 0.000e+00, 0.000e+00,\n",
       "        0.000e+00, 0.000e+00, 1.000e+00, 3.930e+02, 3.570e+00, 5.000e+01,\n",
       "        1.307e+03, 7.400e+01, 1.030e+02, 2.950e+02, 1.050e+01, 4.000e+00]])"
      ]
     },
     "execution_count": 52,
     "metadata": {},
     "output_type": "execute_result"
    }
   ],
   "source": [
    "tr=xvalue.values.reshape(1, -1)\n",
    "tr"
   ]
  },
  {
   "cell_type": "code",
   "execution_count": 53,
   "id": "caeb3fc3-c06f-4f7b-82a7-b95087f907d3",
   "metadata": {},
   "outputs": [
    {
     "name": "stderr",
     "output_type": "stream",
     "text": [
      "C:\\Users\\sudwa\\anaconda3\\Lib\\site-packages\\sklearn\\base.py:493: UserWarning: X does not have valid feature names, but GradientBoostingClassifier was fitted with feature names\n",
      "  warnings.warn(\n"
     ]
    },
    {
     "data": {
      "text/plain": [
       "1"
      ]
     },
     "execution_count": 53,
     "metadata": {},
     "output_type": "execute_result"
    }
   ],
   "source": [
    "y_pred = model.predict(tr)[0]\n",
    "y_pred"
   ]
  },
  {
   "cell_type": "code",
   "execution_count": 18,
   "id": "6aa060bc-8b6b-497b-89ee-bc0aa902daef",
   "metadata": {},
   "outputs": [
    {
     "data": {
      "text/plain": [
       "Series([], Name: Status, dtype: int64)"
      ]
     },
     "execution_count": 18,
     "metadata": {},
     "output_type": "execute_result"
    }
   ],
   "source": [
    "# x.loc[x['N_Days']==127]"
   ]
  },
  {
   "cell_type": "code",
   "execution_count": 57,
   "id": "a600b972-f8fc-48e9-b98e-12dd3764bf42",
   "metadata": {},
   "outputs": [],
   "source": [
    "def predict_single(data, model):\n",
    "    X=pd.DataFrame([data])\n",
    "    \n",
    "    cat=X.select_dtypes(include=[object])\n",
    "    for i in cat:\n",
    "        X[i]=LabelEncoder().fit_transform(cat[i])\n",
    "    \n",
    "    test=X.values.reshape(1, -1)\n",
    "    \n",
    "    predict = model.predict(test)[0]\n",
    "    return predict"
   ]
  },
  {
   "cell_type": "code",
   "execution_count": 58,
   "id": "cea2f57e-7e07-4fdc-879f-d3bef06a8ab2",
   "metadata": {},
   "outputs": [
    {
     "data": {
      "text/html": [
       "<div>\n",
       "<style scoped>\n",
       "    .dataframe tbody tr th:only-of-type {\n",
       "        vertical-align: middle;\n",
       "    }\n",
       "\n",
       "    .dataframe tbody tr th {\n",
       "        vertical-align: top;\n",
       "    }\n",
       "\n",
       "    .dataframe thead th {\n",
       "        text-align: right;\n",
       "    }\n",
       "</style>\n",
       "<table border=\"1\" class=\"dataframe\">\n",
       "  <thead>\n",
       "    <tr style=\"text-align: right;\">\n",
       "      <th></th>\n",
       "      <th>ID</th>\n",
       "      <th>N_Days</th>\n",
       "      <th>Status</th>\n",
       "      <th>Drug</th>\n",
       "      <th>Age</th>\n",
       "      <th>Sex</th>\n",
       "      <th>Ascites</th>\n",
       "      <th>Hepatomegaly</th>\n",
       "      <th>Spiders</th>\n",
       "      <th>Edema</th>\n",
       "      <th>Bilirubin</th>\n",
       "      <th>Cholesterol</th>\n",
       "      <th>Albumin</th>\n",
       "      <th>Copper</th>\n",
       "      <th>Alk_Phos</th>\n",
       "      <th>SGOT</th>\n",
       "      <th>Tryglicerides</th>\n",
       "      <th>Platelets</th>\n",
       "      <th>Prothrombin</th>\n",
       "      <th>Stage</th>\n",
       "    </tr>\n",
       "  </thead>\n",
       "  <tbody>\n",
       "    <tr>\n",
       "      <th>4</th>\n",
       "      <td>5</td>\n",
       "      <td>1504</td>\n",
       "      <td>2</td>\n",
       "      <td>Placebo</td>\n",
       "      <td>38.0</td>\n",
       "      <td>F</td>\n",
       "      <td>N</td>\n",
       "      <td>Y</td>\n",
       "      <td>Y</td>\n",
       "      <td>N</td>\n",
       "      <td>3.4</td>\n",
       "      <td>279.0</td>\n",
       "      <td>3.53</td>\n",
       "      <td>143.0</td>\n",
       "      <td>671.0</td>\n",
       "      <td>113.15</td>\n",
       "      <td>72.0</td>\n",
       "      <td>136.0</td>\n",
       "      <td>10.9</td>\n",
       "      <td>3.0</td>\n",
       "    </tr>\n",
       "  </tbody>\n",
       "</table>\n",
       "</div>"
      ],
      "text/plain": [
       "   ID  N_Days  Status     Drug   Age Sex Ascites Hepatomegaly Spiders Edema  \\\n",
       "4   5    1504       2  Placebo  38.0   F       N            Y       Y     N   \n",
       "\n",
       "   Bilirubin  Cholesterol  Albumin  Copper  Alk_Phos    SGOT  Tryglicerides  \\\n",
       "4        3.4        279.0     3.53   143.0     671.0  113.15           72.0   \n",
       "\n",
       "   Platelets  Prothrombin  Stage  \n",
       "4      136.0         10.9    3.0  "
      ]
     },
     "execution_count": 58,
     "metadata": {},
     "output_type": "execute_result"
    }
   ],
   "source": [
    "data.loc[x['N_Days']==1504]"
   ]
  },
  {
   "cell_type": "code",
   "execution_count": 59,
   "id": "14f94cdf-c747-455f-a290-dbb0871bbc1e",
   "metadata": {},
   "outputs": [
    {
     "data": {
      "text/plain": [
       "N_Days              1504\n",
       "Drug             Placebo\n",
       "Age                 38.0\n",
       "Sex                    F\n",
       "Ascites                N\n",
       "Hepatomegaly           Y\n",
       "Spiders                Y\n",
       "Edema                  N\n",
       "Bilirubin            3.4\n",
       "Cholesterol        279.0\n",
       "Albumin             3.53\n",
       "Copper             143.0\n",
       "Alk_Phos           671.0\n",
       "SGOT              113.15\n",
       "Tryglicerides       72.0\n",
       "Platelets          136.0\n",
       "Prothrombin         10.9\n",
       "Stage                3.0\n",
       "Name: 4, dtype: object"
      ]
     },
     "execution_count": 59,
     "metadata": {},
     "output_type": "execute_result"
    }
   ],
   "source": [
    "feat=x.loc[4]\n",
    "feat"
   ]
  },
  {
   "cell_type": "code",
   "execution_count": 60,
   "id": "3a36f5f5-e8a7-487b-819d-69cf09d81e83",
   "metadata": {},
   "outputs": [
    {
     "name": "stderr",
     "output_type": "stream",
     "text": [
      "C:\\Users\\sudwa\\anaconda3\\Lib\\site-packages\\sklearn\\base.py:493: UserWarning: X does not have valid feature names, but GradientBoostingClassifier was fitted with feature names\n",
      "  warnings.warn(\n"
     ]
    },
    {
     "data": {
      "text/plain": [
       "2"
      ]
     },
     "execution_count": 60,
     "metadata": {},
     "output_type": "execute_result"
    }
   ],
   "source": [
    "predict_single(feat,model)"
   ]
  },
  {
   "cell_type": "code",
   "execution_count": null,
   "id": "27bc56fb-cd60-4b8b-b128-22f24053ffed",
   "metadata": {},
   "outputs": [],
   "source": []
  },
  {
   "cell_type": "code",
   "execution_count": null,
   "id": "321f37fb-622e-4e9a-b9eb-3b725d329d43",
   "metadata": {},
   "outputs": [],
   "source": []
  },
  {
   "cell_type": "code",
   "execution_count": 30,
   "id": "7d66fc3d-bca8-4e00-b1d5-6f2914f26678",
   "metadata": {},
   "outputs": [],
   "source": [
    "import requests\n",
    "\n",
    "url = 'http://localhost:9696/predict'\n",
    "\n",
    "person_data = {\"N_Days\":1295.00,\n",
    "#\"Status \":1.00,\n",
    "\"Drug   \":1.00,\n",
    "\"Age    \":45.00,\n",
    "\"Sex    \":0.00,\n",
    "\"Ascites\":0.00,\n",
    "\"Hepatomegaly\":0.00,\n",
    "\"Spiders    \":0.00,\n",
    "\"Edema      \":0.00,\n",
    "\"Bilirubin  \":1.00,\n",
    "\"Cholesterol\":393.00,\n",
    "\"Albumin  \":3.57,\n",
    "\"Copper   \":50.00,\n",
    "\"Alk_Phos \":1307.00,\n",
    "\"SGOT     \":74.00,\n",
    "\"Tryglicerides\":103.00,\n",
    "\"Platelets    \":295.00,\n",
    "\"Prothrombin  \":10.50,\n",
    "\"Stage        \":4.00}\n",
    "\n",
    "# response = requests.post(url,json=person_data).json()\n",
    "# print(response)"
   ]
  },
  {
   "cell_type": "code",
   "execution_count": null,
   "id": "70016ef9-563f-486a-90b1-017a0ea5f8a4",
   "metadata": {},
   "outputs": [],
   "source": []
  },
  {
   "cell_type": "code",
   "execution_count": null,
   "id": "7bb70ab3-c216-47b8-8235-8432014970fd",
   "metadata": {},
   "outputs": [],
   "source": []
  }
 ],
 "metadata": {
  "kernelspec": {
   "display_name": "Python 3 (ipykernel)",
   "language": "python",
   "name": "python3"
  },
  "language_info": {
   "codemirror_mode": {
    "name": "ipython",
    "version": 3
   },
   "file_extension": ".py",
   "mimetype": "text/x-python",
   "name": "python",
   "nbconvert_exporter": "python",
   "pygments_lexer": "ipython3",
   "version": "3.12.7"
  }
 },
 "nbformat": 4,
 "nbformat_minor": 5
}
